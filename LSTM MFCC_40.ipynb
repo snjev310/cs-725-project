{
 "cells": [
  {
   "cell_type": "code",
   "execution_count": 14,
   "id": "228685c9",
   "metadata": {},
   "outputs": [],
   "source": [
    "import os\n",
    "import numpy as np\n",
    "import pandas as pd\n",
    "import matplotlib.pyplot as plt\n",
    "import librosa\n",
    "import librosa.display\n",
    "from sklearn.preprocessing import OneHotEncoder"
   ]
  },
  {
   "cell_type": "code",
   "execution_count": 4,
   "id": "725a2ee0",
   "metadata": {},
   "outputs": [
    {
     "name": "stdout",
     "output_type": "stream",
     "text": [
      "fear 0\n",
      "sadness 1\n",
      "happiness 2\n",
      "anger 3\n",
      "disgust 4\n"
     ]
    }
   ],
   "source": [
    "path = r'Acted Emotional Speech Dynamic Database'\n",
    "list_path = []\n",
    "for index,name in enumerate(os.listdir(path)):\n",
    "    folder = os.path.join(path,name)\n",
    "    for file_class in os.listdir(folder):\n",
    "        in_folder = os.path.join(folder, file_class)\n",
    "        list_path.append([in_folder,index])\n",
    "    print(name,index)"
   ]
  },
  {
   "cell_type": "code",
   "execution_count": 5,
   "id": "a281c42b",
   "metadata": {},
   "outputs": [],
   "source": [
    "df = pd.DataFrame(list_path,columns=['Path','label'])"
   ]
  },
  {
   "cell_type": "code",
   "execution_count": 6,
   "id": "d39014d6",
   "metadata": {},
   "outputs": [
    {
     "data": {
      "text/html": [
       "<div>\n",
       "<style scoped>\n",
       "    .dataframe tbody tr th:only-of-type {\n",
       "        vertical-align: middle;\n",
       "    }\n",
       "\n",
       "    .dataframe tbody tr th {\n",
       "        vertical-align: top;\n",
       "    }\n",
       "\n",
       "    .dataframe thead th {\n",
       "        text-align: right;\n",
       "    }\n",
       "</style>\n",
       "<table border=\"1\" class=\"dataframe\">\n",
       "  <thead>\n",
       "    <tr style=\"text-align: right;\">\n",
       "      <th></th>\n",
       "      <th>Path</th>\n",
       "      <th>label</th>\n",
       "    </tr>\n",
       "  </thead>\n",
       "  <tbody>\n",
       "    <tr>\n",
       "      <th>0</th>\n",
       "      <td>Acted Emotional Speech Dynamic Database/fear/f...</td>\n",
       "      <td>0</td>\n",
       "    </tr>\n",
       "    <tr>\n",
       "      <th>1</th>\n",
       "      <td>Acted Emotional Speech Dynamic Database/fear/f...</td>\n",
       "      <td>0</td>\n",
       "    </tr>\n",
       "    <tr>\n",
       "      <th>2</th>\n",
       "      <td>Acted Emotional Speech Dynamic Database/fear/f...</td>\n",
       "      <td>0</td>\n",
       "    </tr>\n",
       "    <tr>\n",
       "      <th>3</th>\n",
       "      <td>Acted Emotional Speech Dynamic Database/fear/f...</td>\n",
       "      <td>0</td>\n",
       "    </tr>\n",
       "    <tr>\n",
       "      <th>4</th>\n",
       "      <td>Acted Emotional Speech Dynamic Database/fear/f...</td>\n",
       "      <td>0</td>\n",
       "    </tr>\n",
       "  </tbody>\n",
       "</table>\n",
       "</div>"
      ],
      "text/plain": [
       "                                                Path  label\n",
       "0  Acted Emotional Speech Dynamic Database/fear/f...      0\n",
       "1  Acted Emotional Speech Dynamic Database/fear/f...      0\n",
       "2  Acted Emotional Speech Dynamic Database/fear/f...      0\n",
       "3  Acted Emotional Speech Dynamic Database/fear/f...      0\n",
       "4  Acted Emotional Speech Dynamic Database/fear/f...      0"
      ]
     },
     "execution_count": 6,
     "metadata": {},
     "output_type": "execute_result"
    }
   ],
   "source": [
    "df.head()"
   ]
  },
  {
   "cell_type": "code",
   "execution_count": 7,
   "id": "f4e02772",
   "metadata": {},
   "outputs": [],
   "source": [
    "def cal_mfcc(path):\n",
    "    #print(path)\n",
    "    X,sample_rate = librosa.load(path,res_type = 'kaiser_fast')\n",
    "    mfcc_mean = np.mean(librosa.feature.mfcc(y=X, sr=sample_rate, n_mfcc=40).T,axis=0)\n",
    "    return mfcc_mean"
   ]
  },
  {
   "cell_type": "code",
   "execution_count": 8,
   "id": "161b0527",
   "metadata": {},
   "outputs": [],
   "source": [
    "mfcc = df['Path'].apply(lambda x:cal_mfcc(x))"
   ]
  },
  {
   "cell_type": "code",
   "execution_count": 12,
   "id": "d4bdce95",
   "metadata": {},
   "outputs": [
    {
     "data": {
      "text/plain": [
       "(604, 40)"
      ]
     },
     "execution_count": 12,
     "metadata": {},
     "output_type": "execute_result"
    }
   ],
   "source": [
    "X = [x for x in mfcc]\n",
    "X = np.array(X)\n",
    "X.shape"
   ]
  },
  {
   "cell_type": "code",
   "execution_count": 13,
   "id": "5975b2d1",
   "metadata": {},
   "outputs": [
    {
     "data": {
      "text/plain": [
       "(604, 40, 1)"
      ]
     },
     "execution_count": 13,
     "metadata": {},
     "output_type": "execute_result"
    }
   ],
   "source": [
    "X = np.expand_dims(X,-1)\n",
    "X.shape"
   ]
  },
  {
   "cell_type": "code",
   "execution_count": 17,
   "id": "f1ed3cc0",
   "metadata": {},
   "outputs": [
    {
     "data": {
      "text/plain": [
       "(604, 5)"
      ]
     },
     "execution_count": 17,
     "metadata": {},
     "output_type": "execute_result"
    }
   ],
   "source": [
    "one_hot_label = OneHotEncoder()\n",
    "y = one_hot_label.fit_transform(df[['label']])\n",
    "y = y.toarray()\n",
    "y.shape"
   ]
  },
  {
   "cell_type": "code",
   "execution_count": 64,
   "id": "481c6810",
   "metadata": {},
   "outputs": [],
   "source": [
    "#simple"
   ]
  },
  {
   "cell_type": "code",
   "execution_count": 55,
   "id": "180f69fc",
   "metadata": {},
   "outputs": [],
   "source": [
    "X_t = np.array(mfcc.tolist())"
   ]
  },
  {
   "cell_type": "code",
   "execution_count": 100,
   "id": "683a1702",
   "metadata": {},
   "outputs": [],
   "source": [
    "from sklearn.model_selection import train_test_split\n",
    "x_train,x_test,y_train,y_test = train_test_split(X_t,y,test_size=0.25,random_state=23)"
   ]
  },
  {
   "cell_type": "code",
   "execution_count": null,
   "id": "22ba9be1",
   "metadata": {},
   "outputs": [],
   "source": []
  },
  {
   "cell_type": "markdown",
   "id": "84658149",
   "metadata": {},
   "source": [
    "# LSTM"
   ]
  },
  {
   "cell_type": "code",
   "execution_count": 113,
   "id": "776240c5",
   "metadata": {},
   "outputs": [
    {
     "name": "stdout",
     "output_type": "stream",
     "text": [
      "Model: \"sequential_32\"\n",
      "_________________________________________________________________\n",
      "Layer (type)                 Output Shape              Param #   \n",
      "=================================================================\n",
      "lstm_11 (LSTM)               (None, 256)               264192    \n",
      "_________________________________________________________________\n",
      "dense_97 (Dense)             (None, 128)               32896     \n",
      "_________________________________________________________________\n",
      "dropout_36 (Dropout)         (None, 128)               0         \n",
      "_________________________________________________________________\n",
      "dense_98 (Dense)             (None, 64)                8256      \n",
      "_________________________________________________________________\n",
      "dropout_37 (Dropout)         (None, 64)                0         \n",
      "_________________________________________________________________\n",
      "dense_99 (Dense)             (None, 5)                 325       \n",
      "=================================================================\n",
      "Total params: 305,669\n",
      "Trainable params: 305,669\n",
      "Non-trainable params: 0\n",
      "_________________________________________________________________\n"
     ]
    }
   ],
   "source": [
    "model = Sequential([\n",
    "    LSTM(256,input_shape=(40,1)),\n",
    "    Dense(128,activation='relu'),\n",
    "    Dropout(0.2),\n",
    "    Dense(64,activation='relu'),\n",
    "    Dropout(0.2),\n",
    "    Dense(5,activation='softmax')\n",
    "])\n",
    "model.compile(loss='categorical_crossentropy',optimizer='adam',metrics=['accuracy'])\n",
    "model.summary()"
   ]
  },
  {
   "cell_type": "code",
   "execution_count": 114,
   "id": "a318a6aa",
   "metadata": {},
   "outputs": [
    {
     "name": "stdout",
     "output_type": "stream",
     "text": [
      "Epoch 1/50\n",
      "19/19 [==============================] - 2s 68ms/step - loss: 1.5875 - accuracy: 0.2252 - val_loss: 1.5402 - val_accuracy: 0.2314\n",
      "Epoch 2/50\n",
      "19/19 [==============================] - 1s 52ms/step - loss: 1.5459 - accuracy: 0.2897 - val_loss: 1.4860 - val_accuracy: 0.3388\n",
      "Epoch 3/50\n",
      "19/19 [==============================] - 1s 52ms/step - loss: 1.4867 - accuracy: 0.3411 - val_loss: 1.3866 - val_accuracy: 0.3719\n",
      "Epoch 4/50\n",
      "19/19 [==============================] - 1s 53ms/step - loss: 1.4471 - accuracy: 0.3377 - val_loss: 1.4127 - val_accuracy: 0.3306\n",
      "Epoch 5/50\n",
      "19/19 [==============================] - 1s 54ms/step - loss: 1.4086 - accuracy: 0.3874 - val_loss: 1.3157 - val_accuracy: 0.3802\n",
      "Epoch 6/50\n",
      "19/19 [==============================] - 1s 54ms/step - loss: 1.3502 - accuracy: 0.4139 - val_loss: 1.2862 - val_accuracy: 0.4545\n",
      "Epoch 7/50\n",
      "19/19 [==============================] - 1s 55ms/step - loss: 1.3441 - accuracy: 0.3940 - val_loss: 1.2580 - val_accuracy: 0.4876\n",
      "Epoch 8/50\n",
      "19/19 [==============================] - 1s 57ms/step - loss: 1.3122 - accuracy: 0.4106 - val_loss: 1.2669 - val_accuracy: 0.4545\n",
      "Epoch 9/50\n",
      "19/19 [==============================] - 1s 58ms/step - loss: 1.3169 - accuracy: 0.4189 - val_loss: 1.2582 - val_accuracy: 0.4215\n",
      "Epoch 10/50\n",
      "19/19 [==============================] - 1s 58ms/step - loss: 1.2969 - accuracy: 0.4421 - val_loss: 1.2273 - val_accuracy: 0.4711\n",
      "Epoch 11/50\n",
      "19/19 [==============================] - 1s 59ms/step - loss: 1.2410 - accuracy: 0.4934 - val_loss: 1.1847 - val_accuracy: 0.5041\n",
      "Epoch 12/50\n",
      "19/19 [==============================] - 1s 59ms/step - loss: 1.2355 - accuracy: 0.4520 - val_loss: 1.0927 - val_accuracy: 0.4876\n",
      "Epoch 13/50\n",
      "19/19 [==============================] - 1s 60ms/step - loss: 1.1837 - accuracy: 0.4570 - val_loss: 1.1270 - val_accuracy: 0.5289\n",
      "Epoch 14/50\n",
      "19/19 [==============================] - 1s 63ms/step - loss: 1.1246 - accuracy: 0.5132 - val_loss: 1.1157 - val_accuracy: 0.5041\n",
      "Epoch 15/50\n",
      "19/19 [==============================] - 1s 60ms/step - loss: 1.1131 - accuracy: 0.5248 - val_loss: 1.0102 - val_accuracy: 0.5868\n",
      "Epoch 16/50\n",
      "19/19 [==============================] - 1s 59ms/step - loss: 1.1230 - accuracy: 0.5265 - val_loss: 0.9572 - val_accuracy: 0.6116\n",
      "Epoch 17/50\n",
      "19/19 [==============================] - 1s 60ms/step - loss: 1.0847 - accuracy: 0.5414 - val_loss: 1.0458 - val_accuracy: 0.5950\n",
      "Epoch 18/50\n",
      "19/19 [==============================] - 1s 60ms/step - loss: 1.0416 - accuracy: 0.5563 - val_loss: 0.9684 - val_accuracy: 0.6116\n",
      "Epoch 19/50\n",
      "19/19 [==============================] - 1s 60ms/step - loss: 1.1035 - accuracy: 0.5066 - val_loss: 1.0201 - val_accuracy: 0.5455\n",
      "Epoch 20/50\n",
      "19/19 [==============================] - 1s 60ms/step - loss: 1.0141 - accuracy: 0.5513 - val_loss: 0.8910 - val_accuracy: 0.6364\n",
      "Epoch 21/50\n",
      "19/19 [==============================] - 1s 60ms/step - loss: 0.9686 - accuracy: 0.5877 - val_loss: 0.9717 - val_accuracy: 0.5950\n",
      "Epoch 22/50\n",
      "19/19 [==============================] - 1s 60ms/step - loss: 0.9757 - accuracy: 0.6043 - val_loss: 0.8637 - val_accuracy: 0.6364\n",
      "Epoch 23/50\n",
      "19/19 [==============================] - 1s 60ms/step - loss: 0.9871 - accuracy: 0.5811 - val_loss: 0.8616 - val_accuracy: 0.6033\n",
      "Epoch 24/50\n",
      "19/19 [==============================] - 1s 64ms/step - loss: 0.9162 - accuracy: 0.6573 - val_loss: 0.9322 - val_accuracy: 0.6529\n",
      "Epoch 25/50\n",
      "19/19 [==============================] - 1s 61ms/step - loss: 0.9037 - accuracy: 0.6192 - val_loss: 0.8191 - val_accuracy: 0.6116\n",
      "Epoch 26/50\n",
      "19/19 [==============================] - 1s 60ms/step - loss: 0.8393 - accuracy: 0.6507 - val_loss: 0.7595 - val_accuracy: 0.7438\n",
      "Epoch 27/50\n",
      "19/19 [==============================] - 1s 61ms/step - loss: 0.8422 - accuracy: 0.6656 - val_loss: 0.7763 - val_accuracy: 0.6777\n",
      "Epoch 28/50\n",
      "19/19 [==============================] - 1s 61ms/step - loss: 0.8144 - accuracy: 0.6507 - val_loss: 0.7913 - val_accuracy: 0.7025\n",
      "Epoch 29/50\n",
      "19/19 [==============================] - 1s 61ms/step - loss: 0.8049 - accuracy: 0.6523 - val_loss: 0.7211 - val_accuracy: 0.6777\n",
      "Epoch 30/50\n",
      "19/19 [==============================] - 2s 81ms/step - loss: 0.7910 - accuracy: 0.6738 - val_loss: 0.6361 - val_accuracy: 0.7190\n",
      "Epoch 31/50\n",
      "19/19 [==============================] - 1s 61ms/step - loss: 0.7097 - accuracy: 0.7136 - val_loss: 0.6530 - val_accuracy: 0.7273\n",
      "Epoch 32/50\n",
      "19/19 [==============================] - 1s 60ms/step - loss: 0.7602 - accuracy: 0.6854 - val_loss: 0.7328 - val_accuracy: 0.6942\n",
      "Epoch 33/50\n",
      "19/19 [==============================] - 1s 62ms/step - loss: 0.7830 - accuracy: 0.6805 - val_loss: 0.5874 - val_accuracy: 0.7273\n",
      "Epoch 34/50\n",
      "19/19 [==============================] - 1s 61ms/step - loss: 0.7441 - accuracy: 0.6921 - val_loss: 0.6876 - val_accuracy: 0.7438\n",
      "Epoch 35/50\n",
      "19/19 [==============================] - 1s 60ms/step - loss: 0.7138 - accuracy: 0.7351 - val_loss: 0.6091 - val_accuracy: 0.7438\n",
      "Epoch 36/50\n",
      "19/19 [==============================] - 1s 64ms/step - loss: 0.6731 - accuracy: 0.7036 - val_loss: 0.6424 - val_accuracy: 0.7603\n",
      "Epoch 37/50\n",
      "19/19 [==============================] - 1s 65ms/step - loss: 0.7147 - accuracy: 0.7301 - val_loss: 0.5611 - val_accuracy: 0.7355\n",
      "Epoch 38/50\n",
      "19/19 [==============================] - 1s 62ms/step - loss: 0.6283 - accuracy: 0.7517 - val_loss: 0.4962 - val_accuracy: 0.7934\n",
      "Epoch 39/50\n",
      "19/19 [==============================] - 1s 63ms/step - loss: 0.6846 - accuracy: 0.7334 - val_loss: 0.4998 - val_accuracy: 0.7934\n",
      "Epoch 40/50\n",
      "19/19 [==============================] - 1s 70ms/step - loss: 0.5931 - accuracy: 0.7815 - val_loss: 0.4298 - val_accuracy: 0.8264\n",
      "Epoch 41/50\n",
      "19/19 [==============================] - 1s 62ms/step - loss: 0.5607 - accuracy: 0.7732 - val_loss: 0.4282 - val_accuracy: 0.8678\n",
      "Epoch 42/50\n",
      "19/19 [==============================] - 1s 60ms/step - loss: 0.5231 - accuracy: 0.7914 - val_loss: 0.4370 - val_accuracy: 0.8430\n",
      "Epoch 43/50\n",
      "19/19 [==============================] - 1s 64ms/step - loss: 0.5434 - accuracy: 0.7715 - val_loss: 0.3981 - val_accuracy: 0.8430\n",
      "Epoch 44/50\n",
      "19/19 [==============================] - 1s 62ms/step - loss: 0.5364 - accuracy: 0.7831 - val_loss: 0.4017 - val_accuracy: 0.8430\n",
      "Epoch 45/50\n",
      "19/19 [==============================] - 1s 61ms/step - loss: 0.4867 - accuracy: 0.8228 - val_loss: 0.3878 - val_accuracy: 0.8595\n",
      "Epoch 46/50\n",
      "19/19 [==============================] - 1s 66ms/step - loss: 0.4573 - accuracy: 0.8228 - val_loss: 0.2771 - val_accuracy: 0.8760\n",
      "Epoch 47/50\n",
      "19/19 [==============================] - 1s 61ms/step - loss: 0.4677 - accuracy: 0.8013 - val_loss: 0.3632 - val_accuracy: 0.8678\n",
      "Epoch 48/50\n",
      "19/19 [==============================] - 1s 63ms/step - loss: 0.5413 - accuracy: 0.7964 - val_loss: 0.5256 - val_accuracy: 0.8099\n",
      "Epoch 49/50\n",
      "19/19 [==============================] - 1s 67ms/step - loss: 0.5957 - accuracy: 0.7798 - val_loss: 0.5896 - val_accuracy: 0.7273\n",
      "Epoch 50/50\n",
      "19/19 [==============================] - 1s 62ms/step - loss: 0.4582 - accuracy: 0.8212 - val_loss: 0.3947 - val_accuracy: 0.8595\n"
     ]
    }
   ],
   "source": [
    "history = model.fit(X,y,validation_data=(X_test,Y_test),epochs=50,batch_size=32)"
   ]
  },
  {
   "cell_type": "code",
   "execution_count": 117,
   "id": "2765d6fb",
   "metadata": {},
   "outputs": [
    {
     "name": "stdout",
     "output_type": "stream",
     "text": [
      "4/4 [==============================] - 0s 25ms/step - loss: 0.3947 - accuracy: 0.8595\n",
      "Test loss: 0.39469823241233826\n",
      "Test accuracy: 0.8595041036605835\n",
      "16/16 [==============================] - 0s 17ms/step - loss: 0.3731 - accuracy: 0.8468\n",
      "Train loss: 0.37310490012168884\n",
      "Train accuracy: 0.8467909097671509\n"
     ]
    }
   ],
   "source": [
    "score = model.evaluate(X_test,Y_test, verbose = 1) \n",
    "\n",
    "print('Test loss:', score[0]) \n",
    "print('Test accuracy:', score[1])\n",
    "score = model.evaluate(X_train, Y_train, verbose = 1) \n",
    "\n",
    "print('Train loss:', score[0]) \n",
    "print('Train accuracy:', score[1])"
   ]
  },
  {
   "cell_type": "code",
   "execution_count": 120,
   "id": "9948e8f4",
   "metadata": {},
   "outputs": [],
   "source": [
    "y_predict = model.predict(X_test)\n",
    "y_predict_bool = np.argmax(y_predict,axis=1).tolist()\n",
    "y_test_e = np.argmax(Y_test,axis=1).tolist()"
   ]
  },
  {
   "cell_type": "code",
   "execution_count": 122,
   "id": "aff16d54",
   "metadata": {},
   "outputs": [
    {
     "name": "stdout",
     "output_type": "stream",
     "text": [
      "[[15  0  3  0  4]\n",
      " [ 2 26  0  0  0]\n",
      " [ 1  0 23  2  0]\n",
      " [ 0  0  1 22  0]\n",
      " [ 1  0  3  0 18]]\n"
     ]
    }
   ],
   "source": [
    "from sklearn.metrics import precision_score,recall_score,confusion_matrix,classification_report\n",
    "print(confusion_matrix(y_test_e,y_predict_bool))"
   ]
  },
  {
   "cell_type": "code",
   "execution_count": 123,
   "id": "d80fbc61",
   "metadata": {},
   "outputs": [
    {
     "name": "stdout",
     "output_type": "stream",
     "text": [
      "              precision    recall  f1-score   support\n",
      "\n",
      "           0       0.79      0.68      0.73        22\n",
      "           1       1.00      0.93      0.96        28\n",
      "           2       0.77      0.88      0.82        26\n",
      "           3       0.92      0.96      0.94        23\n",
      "           4       0.82      0.82      0.82        22\n",
      "\n",
      "    accuracy                           0.86       121\n",
      "   macro avg       0.86      0.85      0.85       121\n",
      "weighted avg       0.86      0.86      0.86       121\n",
      "\n"
     ]
    }
   ],
   "source": [
    "print(classification_report(y_test_e,y_predict_bool))"
   ]
  },
  {
   "cell_type": "code",
   "execution_count": null,
   "id": "2b005cc4",
   "metadata": {},
   "outputs": [],
   "source": []
  }
 ],
 "metadata": {
  "kernelspec": {
   "display_name": "Python 3",
   "language": "python",
   "name": "python3"
  },
  "language_info": {
   "codemirror_mode": {
    "name": "ipython",
    "version": 3
   },
   "file_extension": ".py",
   "mimetype": "text/x-python",
   "name": "python",
   "nbconvert_exporter": "python",
   "pygments_lexer": "ipython3",
   "version": "3.8.8"
  }
 },
 "nbformat": 4,
 "nbformat_minor": 5
}
