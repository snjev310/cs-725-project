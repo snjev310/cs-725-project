{
 "cells": [
  {
   "cell_type": "code",
   "execution_count": 68,
   "id": "4643f814",
   "metadata": {},
   "outputs": [],
   "source": [
    "import numpy as np\n",
    "import pandas as pd\n",
    "import warnings\n",
    "import matplotlib.pyplot as plt\n",
    "import warnings"
   ]
  },
  {
   "cell_type": "code",
   "execution_count": 69,
   "id": "574023cc",
   "metadata": {},
   "outputs": [],
   "source": [
    "df = pd.read_excel('Final Feature SER.xlsx')"
   ]
  },
  {
   "cell_type": "code",
   "execution_count": 70,
   "id": "9ab2c0b2",
   "metadata": {
    "scrolled": true
   },
   "outputs": [
    {
     "data": {
      "text/html": [
       "<div>\n",
       "<style scoped>\n",
       "    .dataframe tbody tr th:only-of-type {\n",
       "        vertical-align: middle;\n",
       "    }\n",
       "\n",
       "    .dataframe tbody tr th {\n",
       "        vertical-align: top;\n",
       "    }\n",
       "\n",
       "    .dataframe thead th {\n",
       "        text-align: right;\n",
       "    }\n",
       "</style>\n",
       "<table border=\"1\" class=\"dataframe\">\n",
       "  <thead>\n",
       "    <tr style=\"text-align: right;\">\n",
       "      <th></th>\n",
       "      <th>Path</th>\n",
       "      <th>label</th>\n",
       "      <th>roll_of_30</th>\n",
       "      <th>roll_of_50</th>\n",
       "      <th>roll_of_70</th>\n",
       "      <th>roll_of_90</th>\n",
       "      <th>sc</th>\n",
       "      <th>pitch</th>\n",
       "      <th>contrast</th>\n",
       "      <th>flatness</th>\n",
       "      <th>...</th>\n",
       "      <th>croma_var_4</th>\n",
       "      <th>croma_var_5</th>\n",
       "      <th>croma_var_6</th>\n",
       "      <th>croma_var_7</th>\n",
       "      <th>croma_var_8</th>\n",
       "      <th>croma_var_9</th>\n",
       "      <th>croma_var_10</th>\n",
       "      <th>croma_var_11</th>\n",
       "      <th>croma_var_12</th>\n",
       "      <th>croma_var_13</th>\n",
       "    </tr>\n",
       "  </thead>\n",
       "  <tbody>\n",
       "    <tr>\n",
       "      <th>0</th>\n",
       "      <td>Acted Emotional Speech Dynamic Database/fear/f...</td>\n",
       "      <td>0</td>\n",
       "      <td>861.696844</td>\n",
       "      <td>1472.664611</td>\n",
       "      <td>2661.341670</td>\n",
       "      <td>5464.640244</td>\n",
       "      <td>2255.163755</td>\n",
       "      <td>20.725584</td>\n",
       "      <td>74.953849</td>\n",
       "      <td>0.015859</td>\n",
       "      <td>...</td>\n",
       "      <td>0.069918</td>\n",
       "      <td>0.094098</td>\n",
       "      <td>0.103631</td>\n",
       "      <td>0.082798</td>\n",
       "      <td>0.057802</td>\n",
       "      <td>0.079231</td>\n",
       "      <td>0.089020</td>\n",
       "      <td>0.120973</td>\n",
       "      <td>0.106051</td>\n",
       "      <td>0.141908</td>\n",
       "    </tr>\n",
       "    <tr>\n",
       "      <th>1</th>\n",
       "      <td>Acted Emotional Speech Dynamic Database/fear/f...</td>\n",
       "      <td>0</td>\n",
       "      <td>882.633865</td>\n",
       "      <td>1774.062981</td>\n",
       "      <td>3164.471006</td>\n",
       "      <td>6562.546937</td>\n",
       "      <td>2613.362624</td>\n",
       "      <td>26.604160</td>\n",
       "      <td>75.946830</td>\n",
       "      <td>0.016071</td>\n",
       "      <td>...</td>\n",
       "      <td>0.124383</td>\n",
       "      <td>0.106709</td>\n",
       "      <td>0.134793</td>\n",
       "      <td>0.123825</td>\n",
       "      <td>0.152942</td>\n",
       "      <td>0.064132</td>\n",
       "      <td>0.051390</td>\n",
       "      <td>0.040874</td>\n",
       "      <td>0.058504</td>\n",
       "      <td>0.101552</td>\n",
       "    </tr>\n",
       "    <tr>\n",
       "      <th>2</th>\n",
       "      <td>Acted Emotional Speech Dynamic Database/fear/f...</td>\n",
       "      <td>0</td>\n",
       "      <td>975.761719</td>\n",
       "      <td>1743.235840</td>\n",
       "      <td>2916.703125</td>\n",
       "      <td>5331.928711</td>\n",
       "      <td>2360.061152</td>\n",
       "      <td>26.549549</td>\n",
       "      <td>74.698857</td>\n",
       "      <td>0.027758</td>\n",
       "      <td>...</td>\n",
       "      <td>0.099596</td>\n",
       "      <td>0.097517</td>\n",
       "      <td>0.094142</td>\n",
       "      <td>0.108840</td>\n",
       "      <td>0.094250</td>\n",
       "      <td>0.087771</td>\n",
       "      <td>0.101411</td>\n",
       "      <td>0.108509</td>\n",
       "      <td>0.115968</td>\n",
       "      <td>0.112361</td>\n",
       "    </tr>\n",
       "    <tr>\n",
       "      <th>3</th>\n",
       "      <td>Acted Emotional Speech Dynamic Database/fear/f...</td>\n",
       "      <td>0</td>\n",
       "      <td>1205.622746</td>\n",
       "      <td>1942.484225</td>\n",
       "      <td>2984.123347</td>\n",
       "      <td>5483.039739</td>\n",
       "      <td>2509.701460</td>\n",
       "      <td>15.810717</td>\n",
       "      <td>60.172080</td>\n",
       "      <td>0.019989</td>\n",
       "      <td>...</td>\n",
       "      <td>0.088697</td>\n",
       "      <td>0.088577</td>\n",
       "      <td>0.131554</td>\n",
       "      <td>0.118669</td>\n",
       "      <td>0.125060</td>\n",
       "      <td>0.113986</td>\n",
       "      <td>0.034199</td>\n",
       "      <td>0.030645</td>\n",
       "      <td>0.038538</td>\n",
       "      <td>0.117547</td>\n",
       "    </tr>\n",
       "    <tr>\n",
       "      <th>4</th>\n",
       "      <td>Acted Emotional Speech Dynamic Database/fear/f...</td>\n",
       "      <td>0</td>\n",
       "      <td>1071.758942</td>\n",
       "      <td>1966.029654</td>\n",
       "      <td>3298.356423</td>\n",
       "      <td>5946.217278</td>\n",
       "      <td>2667.367217</td>\n",
       "      <td>21.201275</td>\n",
       "      <td>85.566494</td>\n",
       "      <td>0.016265</td>\n",
       "      <td>...</td>\n",
       "      <td>0.044568</td>\n",
       "      <td>0.015855</td>\n",
       "      <td>0.008668</td>\n",
       "      <td>0.017240</td>\n",
       "      <td>0.036811</td>\n",
       "      <td>0.114330</td>\n",
       "      <td>0.105673</td>\n",
       "      <td>0.131539</td>\n",
       "      <td>0.137840</td>\n",
       "      <td>0.099415</td>\n",
       "    </tr>\n",
       "  </tbody>\n",
       "</table>\n",
       "<p>5 rows × 106 columns</p>\n",
       "</div>"
      ],
      "text/plain": [
       "                                                Path  label   roll_of_30  \\\n",
       "0  Acted Emotional Speech Dynamic Database/fear/f...      0   861.696844   \n",
       "1  Acted Emotional Speech Dynamic Database/fear/f...      0   882.633865   \n",
       "2  Acted Emotional Speech Dynamic Database/fear/f...      0   975.761719   \n",
       "3  Acted Emotional Speech Dynamic Database/fear/f...      0  1205.622746   \n",
       "4  Acted Emotional Speech Dynamic Database/fear/f...      0  1071.758942   \n",
       "\n",
       "    roll_of_50   roll_of_70   roll_of_90           sc      pitch   contrast  \\\n",
       "0  1472.664611  2661.341670  5464.640244  2255.163755  20.725584  74.953849   \n",
       "1  1774.062981  3164.471006  6562.546937  2613.362624  26.604160  75.946830   \n",
       "2  1743.235840  2916.703125  5331.928711  2360.061152  26.549549  74.698857   \n",
       "3  1942.484225  2984.123347  5483.039739  2509.701460  15.810717  60.172080   \n",
       "4  1966.029654  3298.356423  5946.217278  2667.367217  21.201275  85.566494   \n",
       "\n",
       "   flatness  ...  croma_var_4  croma_var_5  croma_var_6  croma_var_7  \\\n",
       "0  0.015859  ...     0.069918     0.094098     0.103631     0.082798   \n",
       "1  0.016071  ...     0.124383     0.106709     0.134793     0.123825   \n",
       "2  0.027758  ...     0.099596     0.097517     0.094142     0.108840   \n",
       "3  0.019989  ...     0.088697     0.088577     0.131554     0.118669   \n",
       "4  0.016265  ...     0.044568     0.015855     0.008668     0.017240   \n",
       "\n",
       "   croma_var_8  croma_var_9  croma_var_10  croma_var_11  croma_var_12  \\\n",
       "0     0.057802     0.079231      0.089020      0.120973      0.106051   \n",
       "1     0.152942     0.064132      0.051390      0.040874      0.058504   \n",
       "2     0.094250     0.087771      0.101411      0.108509      0.115968   \n",
       "3     0.125060     0.113986      0.034199      0.030645      0.038538   \n",
       "4     0.036811     0.114330      0.105673      0.131539      0.137840   \n",
       "\n",
       "   croma_var_13  \n",
       "0      0.141908  \n",
       "1      0.101552  \n",
       "2      0.112361  \n",
       "3      0.117547  \n",
       "4      0.099415  \n",
       "\n",
       "[5 rows x 106 columns]"
      ]
     },
     "execution_count": 70,
     "metadata": {},
     "output_type": "execute_result"
    }
   ],
   "source": [
    "df.head()"
   ]
  },
  {
   "cell_type": "code",
   "execution_count": 71,
   "id": "fc2644e1",
   "metadata": {},
   "outputs": [],
   "source": [
    "Y =df['label']"
   ]
  },
  {
   "cell_type": "code",
   "execution_count": 72,
   "id": "b28d88a7",
   "metadata": {},
   "outputs": [],
   "source": [
    "X =(df[df.columns[2:]]).values"
   ]
  },
  {
   "cell_type": "code",
   "execution_count": 73,
   "id": "2a201068",
   "metadata": {},
   "outputs": [
    {
     "data": {
      "text/plain": [
       "numpy.ndarray"
      ]
     },
     "execution_count": 73,
     "metadata": {},
     "output_type": "execute_result"
    }
   ],
   "source": [
    "type(X)"
   ]
  },
  {
   "cell_type": "code",
   "execution_count": null,
   "id": "2fb4b361",
   "metadata": {},
   "outputs": [],
   "source": []
  },
  {
   "cell_type": "code",
   "execution_count": 74,
   "id": "6b8ad536",
   "metadata": {},
   "outputs": [],
   "source": [
    "from sklearn.model_selection import train_test_split\n",
    "X_train,X_test,Y_train,Y_test = train_test_split(X,Y,random_state=123,test_size=0.2)"
   ]
  },
  {
   "cell_type": "code",
   "execution_count": 75,
   "id": "cb7ebb89",
   "metadata": {},
   "outputs": [],
   "source": [
    "from sklearn.linear_model import LogisticRegression"
   ]
  },
  {
   "cell_type": "code",
   "execution_count": 76,
   "id": "1bbaeb46",
   "metadata": {},
   "outputs": [
    {
     "name": "stderr",
     "output_type": "stream",
     "text": [
      "/opt/anaconda3/lib/python3.8/site-packages/sklearn/linear_model/_logistic.py:444: ConvergenceWarning: lbfgs failed to converge (status=1):\n",
      "STOP: TOTAL NO. of ITERATIONS REACHED LIMIT.\n",
      "\n",
      "Increase the number of iterations (max_iter) or scale the data as shown in:\n",
      "    https://scikit-learn.org/stable/modules/preprocessing.html\n",
      "Please also refer to the documentation for alternative solver options:\n",
      "    https://scikit-learn.org/stable/modules/linear_model.html#logistic-regression\n",
      "  n_iter_i = _check_optimize_result(\n"
     ]
    },
    {
     "data": {
      "text/html": [
       "<style>#sk-container-id-10 {color: black;background-color: white;}#sk-container-id-10 pre{padding: 0;}#sk-container-id-10 div.sk-toggleable {background-color: white;}#sk-container-id-10 label.sk-toggleable__label {cursor: pointer;display: block;width: 100%;margin-bottom: 0;padding: 0.3em;box-sizing: border-box;text-align: center;}#sk-container-id-10 label.sk-toggleable__label-arrow:before {content: \"▸\";float: left;margin-right: 0.25em;color: #696969;}#sk-container-id-10 label.sk-toggleable__label-arrow:hover:before {color: black;}#sk-container-id-10 div.sk-estimator:hover label.sk-toggleable__label-arrow:before {color: black;}#sk-container-id-10 div.sk-toggleable__content {max-height: 0;max-width: 0;overflow: hidden;text-align: left;background-color: #f0f8ff;}#sk-container-id-10 div.sk-toggleable__content pre {margin: 0.2em;color: black;border-radius: 0.25em;background-color: #f0f8ff;}#sk-container-id-10 input.sk-toggleable__control:checked~div.sk-toggleable__content {max-height: 200px;max-width: 100%;overflow: auto;}#sk-container-id-10 input.sk-toggleable__control:checked~label.sk-toggleable__label-arrow:before {content: \"▾\";}#sk-container-id-10 div.sk-estimator input.sk-toggleable__control:checked~label.sk-toggleable__label {background-color: #d4ebff;}#sk-container-id-10 div.sk-label input.sk-toggleable__control:checked~label.sk-toggleable__label {background-color: #d4ebff;}#sk-container-id-10 input.sk-hidden--visually {border: 0;clip: rect(1px 1px 1px 1px);clip: rect(1px, 1px, 1px, 1px);height: 1px;margin: -1px;overflow: hidden;padding: 0;position: absolute;width: 1px;}#sk-container-id-10 div.sk-estimator {font-family: monospace;background-color: #f0f8ff;border: 1px dotted black;border-radius: 0.25em;box-sizing: border-box;margin-bottom: 0.5em;}#sk-container-id-10 div.sk-estimator:hover {background-color: #d4ebff;}#sk-container-id-10 div.sk-parallel-item::after {content: \"\";width: 100%;border-bottom: 1px solid gray;flex-grow: 1;}#sk-container-id-10 div.sk-label:hover label.sk-toggleable__label {background-color: #d4ebff;}#sk-container-id-10 div.sk-serial::before {content: \"\";position: absolute;border-left: 1px solid gray;box-sizing: border-box;top: 0;bottom: 0;left: 50%;z-index: 0;}#sk-container-id-10 div.sk-serial {display: flex;flex-direction: column;align-items: center;background-color: white;padding-right: 0.2em;padding-left: 0.2em;position: relative;}#sk-container-id-10 div.sk-item {position: relative;z-index: 1;}#sk-container-id-10 div.sk-parallel {display: flex;align-items: stretch;justify-content: center;background-color: white;position: relative;}#sk-container-id-10 div.sk-item::before, #sk-container-id-10 div.sk-parallel-item::before {content: \"\";position: absolute;border-left: 1px solid gray;box-sizing: border-box;top: 0;bottom: 0;left: 50%;z-index: -1;}#sk-container-id-10 div.sk-parallel-item {display: flex;flex-direction: column;z-index: 1;position: relative;background-color: white;}#sk-container-id-10 div.sk-parallel-item:first-child::after {align-self: flex-end;width: 50%;}#sk-container-id-10 div.sk-parallel-item:last-child::after {align-self: flex-start;width: 50%;}#sk-container-id-10 div.sk-parallel-item:only-child::after {width: 0;}#sk-container-id-10 div.sk-dashed-wrapped {border: 1px dashed gray;margin: 0 0.4em 0.5em 0.4em;box-sizing: border-box;padding-bottom: 0.4em;background-color: white;}#sk-container-id-10 div.sk-label label {font-family: monospace;font-weight: bold;display: inline-block;line-height: 1.2em;}#sk-container-id-10 div.sk-label-container {text-align: center;}#sk-container-id-10 div.sk-container {/* jupyter's `normalize.less` sets `[hidden] { display: none; }` but bootstrap.min.css set `[hidden] { display: none !important; }` so we also need the `!important` here to be able to override the default hidden behavior on the sphinx rendered scikit-learn.org. See: https://github.com/scikit-learn/scikit-learn/issues/21755 */display: inline-block !important;position: relative;}#sk-container-id-10 div.sk-text-repr-fallback {display: none;}</style><div id=\"sk-container-id-10\" class=\"sk-top-container\"><div class=\"sk-text-repr-fallback\"><pre>LogisticRegression(max_iter=10000, tol=0.001)</pre><b>In a Jupyter environment, please rerun this cell to show the HTML representation or trust the notebook. <br />On GitHub, the HTML representation is unable to render, please try loading this page with nbviewer.org.</b></div><div class=\"sk-container\" hidden><div class=\"sk-item\"><div class=\"sk-estimator sk-toggleable\"><input class=\"sk-toggleable__control sk-hidden--visually\" id=\"sk-estimator-id-12\" type=\"checkbox\" checked><label for=\"sk-estimator-id-12\" class=\"sk-toggleable__label sk-toggleable__label-arrow\">LogisticRegression</label><div class=\"sk-toggleable__content\"><pre>LogisticRegression(max_iter=10000, tol=0.001)</pre></div></div></div></div></div>"
      ],
      "text/plain": [
       "LogisticRegression(max_iter=10000, tol=0.001)"
      ]
     },
     "execution_count": 76,
     "metadata": {},
     "output_type": "execute_result"
    }
   ],
   "source": [
    "clf_n = LogisticRegression(penalty='l2',max_iter=10000,tol=0.001,)\n",
    "clf_n.fit(X_train,Y_train)"
   ]
  },
  {
   "cell_type": "code",
   "execution_count": 77,
   "id": "152ca8f5",
   "metadata": {},
   "outputs": [
    {
     "data": {
      "text/plain": [
       "0.7603305785123967"
      ]
     },
     "execution_count": 77,
     "metadata": {},
     "output_type": "execute_result"
    }
   ],
   "source": [
    "clf_n.score(X_test,Y_test)"
   ]
  },
  {
   "cell_type": "code",
   "execution_count": 78,
   "id": "2b897f3b",
   "metadata": {},
   "outputs": [
    {
     "data": {
      "text/plain": [
       "0.772256728778468"
      ]
     },
     "execution_count": 78,
     "metadata": {},
     "output_type": "execute_result"
    }
   ],
   "source": [
    "clf_n.score(X_train,Y_train)"
   ]
  },
  {
   "cell_type": "code",
   "execution_count": 79,
   "id": "9610cec2",
   "metadata": {},
   "outputs": [
    {
     "name": "stdout",
     "output_type": "stream",
     "text": [
      "              precision    recall  f1-score   support\n",
      "\n",
      "           0       0.58      0.75      0.65        20\n",
      "           1       0.93      0.93      0.93        28\n",
      "           2       0.76      0.72      0.74        18\n",
      "           3       0.84      0.76      0.80        34\n",
      "           4       0.63      0.57      0.60        21\n",
      "\n",
      "    accuracy                           0.76       121\n",
      "   macro avg       0.75      0.75      0.74       121\n",
      "weighted avg       0.77      0.76      0.76       121\n",
      "\n"
     ]
    }
   ],
   "source": [
    "from sklearn.metrics import classification_report,confusion_matrix\n",
    "predict = clf_n.predict(X_test)\n",
    "print(classification_report(Y_test,predict))"
   ]
  },
  {
   "cell_type": "code",
   "execution_count": 80,
   "id": "d4cedee2",
   "metadata": {},
   "outputs": [
    {
     "name": "stdout",
     "output_type": "stream",
     "text": [
      "[[15  0  0  0  5]\n",
      " [ 1 26  0  1  0]\n",
      " [ 1  0 13  2  2]\n",
      " [ 4  0  4 26  0]\n",
      " [ 5  2  0  2 12]]\n"
     ]
    }
   ],
   "source": [
    "print(confusion_matrix(Y_test,predict))\n"
   ]
  },
  {
   "cell_type": "code",
   "execution_count": 81,
   "id": "636499af",
   "metadata": {},
   "outputs": [],
   "source": [
    "from sklearn.pipeline import make_pipeline\n",
    "from sklearn.preprocessing import StandardScaler\n",
    "from sklearn.linear_model import SGDClassifier"
   ]
  },
  {
   "cell_type": "code",
   "execution_count": 82,
   "id": "cbe41fd1",
   "metadata": {},
   "outputs": [
    {
     "data": {
      "text/html": [
       "<style>#sk-container-id-11 {color: black;background-color: white;}#sk-container-id-11 pre{padding: 0;}#sk-container-id-11 div.sk-toggleable {background-color: white;}#sk-container-id-11 label.sk-toggleable__label {cursor: pointer;display: block;width: 100%;margin-bottom: 0;padding: 0.3em;box-sizing: border-box;text-align: center;}#sk-container-id-11 label.sk-toggleable__label-arrow:before {content: \"▸\";float: left;margin-right: 0.25em;color: #696969;}#sk-container-id-11 label.sk-toggleable__label-arrow:hover:before {color: black;}#sk-container-id-11 div.sk-estimator:hover label.sk-toggleable__label-arrow:before {color: black;}#sk-container-id-11 div.sk-toggleable__content {max-height: 0;max-width: 0;overflow: hidden;text-align: left;background-color: #f0f8ff;}#sk-container-id-11 div.sk-toggleable__content pre {margin: 0.2em;color: black;border-radius: 0.25em;background-color: #f0f8ff;}#sk-container-id-11 input.sk-toggleable__control:checked~div.sk-toggleable__content {max-height: 200px;max-width: 100%;overflow: auto;}#sk-container-id-11 input.sk-toggleable__control:checked~label.sk-toggleable__label-arrow:before {content: \"▾\";}#sk-container-id-11 div.sk-estimator input.sk-toggleable__control:checked~label.sk-toggleable__label {background-color: #d4ebff;}#sk-container-id-11 div.sk-label input.sk-toggleable__control:checked~label.sk-toggleable__label {background-color: #d4ebff;}#sk-container-id-11 input.sk-hidden--visually {border: 0;clip: rect(1px 1px 1px 1px);clip: rect(1px, 1px, 1px, 1px);height: 1px;margin: -1px;overflow: hidden;padding: 0;position: absolute;width: 1px;}#sk-container-id-11 div.sk-estimator {font-family: monospace;background-color: #f0f8ff;border: 1px dotted black;border-radius: 0.25em;box-sizing: border-box;margin-bottom: 0.5em;}#sk-container-id-11 div.sk-estimator:hover {background-color: #d4ebff;}#sk-container-id-11 div.sk-parallel-item::after {content: \"\";width: 100%;border-bottom: 1px solid gray;flex-grow: 1;}#sk-container-id-11 div.sk-label:hover label.sk-toggleable__label {background-color: #d4ebff;}#sk-container-id-11 div.sk-serial::before {content: \"\";position: absolute;border-left: 1px solid gray;box-sizing: border-box;top: 0;bottom: 0;left: 50%;z-index: 0;}#sk-container-id-11 div.sk-serial {display: flex;flex-direction: column;align-items: center;background-color: white;padding-right: 0.2em;padding-left: 0.2em;position: relative;}#sk-container-id-11 div.sk-item {position: relative;z-index: 1;}#sk-container-id-11 div.sk-parallel {display: flex;align-items: stretch;justify-content: center;background-color: white;position: relative;}#sk-container-id-11 div.sk-item::before, #sk-container-id-11 div.sk-parallel-item::before {content: \"\";position: absolute;border-left: 1px solid gray;box-sizing: border-box;top: 0;bottom: 0;left: 50%;z-index: -1;}#sk-container-id-11 div.sk-parallel-item {display: flex;flex-direction: column;z-index: 1;position: relative;background-color: white;}#sk-container-id-11 div.sk-parallel-item:first-child::after {align-self: flex-end;width: 50%;}#sk-container-id-11 div.sk-parallel-item:last-child::after {align-self: flex-start;width: 50%;}#sk-container-id-11 div.sk-parallel-item:only-child::after {width: 0;}#sk-container-id-11 div.sk-dashed-wrapped {border: 1px dashed gray;margin: 0 0.4em 0.5em 0.4em;box-sizing: border-box;padding-bottom: 0.4em;background-color: white;}#sk-container-id-11 div.sk-label label {font-family: monospace;font-weight: bold;display: inline-block;line-height: 1.2em;}#sk-container-id-11 div.sk-label-container {text-align: center;}#sk-container-id-11 div.sk-container {/* jupyter's `normalize.less` sets `[hidden] { display: none; }` but bootstrap.min.css set `[hidden] { display: none !important; }` so we also need the `!important` here to be able to override the default hidden behavior on the sphinx rendered scikit-learn.org. See: https://github.com/scikit-learn/scikit-learn/issues/21755 */display: inline-block !important;position: relative;}#sk-container-id-11 div.sk-text-repr-fallback {display: none;}</style><div id=\"sk-container-id-11\" class=\"sk-top-container\"><div class=\"sk-text-repr-fallback\"><pre>Pipeline(steps=[(&#x27;standardscaler&#x27;, StandardScaler()),\n",
       "                (&#x27;sgdclassifier&#x27;,\n",
       "                 SGDClassifier(alpha=1e-05, early_stopping=True,\n",
       "                               n_iter_no_change=15, random_state=123))])</pre><b>In a Jupyter environment, please rerun this cell to show the HTML representation or trust the notebook. <br />On GitHub, the HTML representation is unable to render, please try loading this page with nbviewer.org.</b></div><div class=\"sk-container\" hidden><div class=\"sk-item sk-dashed-wrapped\"><div class=\"sk-label-container\"><div class=\"sk-label sk-toggleable\"><input class=\"sk-toggleable__control sk-hidden--visually\" id=\"sk-estimator-id-13\" type=\"checkbox\" ><label for=\"sk-estimator-id-13\" class=\"sk-toggleable__label sk-toggleable__label-arrow\">Pipeline</label><div class=\"sk-toggleable__content\"><pre>Pipeline(steps=[(&#x27;standardscaler&#x27;, StandardScaler()),\n",
       "                (&#x27;sgdclassifier&#x27;,\n",
       "                 SGDClassifier(alpha=1e-05, early_stopping=True,\n",
       "                               n_iter_no_change=15, random_state=123))])</pre></div></div></div><div class=\"sk-serial\"><div class=\"sk-item\"><div class=\"sk-estimator sk-toggleable\"><input class=\"sk-toggleable__control sk-hidden--visually\" id=\"sk-estimator-id-14\" type=\"checkbox\" ><label for=\"sk-estimator-id-14\" class=\"sk-toggleable__label sk-toggleable__label-arrow\">StandardScaler</label><div class=\"sk-toggleable__content\"><pre>StandardScaler()</pre></div></div></div><div class=\"sk-item\"><div class=\"sk-estimator sk-toggleable\"><input class=\"sk-toggleable__control sk-hidden--visually\" id=\"sk-estimator-id-15\" type=\"checkbox\" ><label for=\"sk-estimator-id-15\" class=\"sk-toggleable__label sk-toggleable__label-arrow\">SGDClassifier</label><div class=\"sk-toggleable__content\"><pre>SGDClassifier(alpha=1e-05, early_stopping=True, n_iter_no_change=15,\n",
       "              random_state=123)</pre></div></div></div></div></div></div></div>"
      ],
      "text/plain": [
       "Pipeline(steps=[('standardscaler', StandardScaler()),\n",
       "                ('sgdclassifier',\n",
       "                 SGDClassifier(alpha=1e-05, early_stopping=True,\n",
       "                               n_iter_no_change=15, random_state=123))])"
      ]
     },
     "execution_count": 82,
     "metadata": {},
     "output_type": "execute_result"
    }
   ],
   "source": [
    "pipe = make_pipeline(StandardScaler(), SGDClassifier(penalty='l2',max_iter=1000,\n",
    "                                                     alpha=0.00001,learning_rate='optimal',n_iter_no_change=15,                                                  random_state=123,early_stopping=True))\n",
    "pipe.fit(X_train,Y_train)"
   ]
  },
  {
   "cell_type": "code",
   "execution_count": 83,
   "id": "cf7e6926",
   "metadata": {},
   "outputs": [
    {
     "name": "stdout",
     "output_type": "stream",
     "text": [
      "0.7971014492753623\n",
      "0.7520661157024794\n"
     ]
    }
   ],
   "source": [
    "print(pipe.score(X_train,Y_train))\n",
    "print(pipe.score(X_test,Y_test))"
   ]
  },
  {
   "cell_type": "code",
   "execution_count": 84,
   "id": "a9fb8ae9",
   "metadata": {},
   "outputs": [
    {
     "name": "stdout",
     "output_type": "stream",
     "text": [
      "              precision    recall  f1-score   support\n",
      "\n",
      "           0       0.67      0.50      0.57        20\n",
      "           1       0.84      0.96      0.90        28\n",
      "           2       0.65      0.72      0.68        18\n",
      "           3       0.80      0.82      0.81        34\n",
      "           4       0.68      0.62      0.65        21\n",
      "\n",
      "    accuracy                           0.75       121\n",
      "   macro avg       0.73      0.73      0.72       121\n",
      "weighted avg       0.75      0.75      0.75       121\n",
      "\n"
     ]
    }
   ],
   "source": [
    "from sklearn.metrics import classification_report,confusion_matrix\n",
    "predict = pipe.predict(X_test)\n",
    "print(classification_report(Y_test,predict))"
   ]
  },
  {
   "cell_type": "code",
   "execution_count": 85,
   "id": "84407dcc",
   "metadata": {},
   "outputs": [
    {
     "name": "stdout",
     "output_type": "stream",
     "text": [
      "0.8178053830227743\n",
      "0.7603305785123967\n"
     ]
    },
    {
     "name": "stderr",
     "output_type": "stream",
     "text": [
      "/opt/anaconda3/lib/python3.8/site-packages/sklearn/linear_model/_stochastic_gradient.py:173: FutureWarning: The loss 'log' was deprecated in v1.1 and will be removed in version 1.3. Use `loss='log_loss'` which is equivalent.\n",
      "  warnings.warn(\n"
     ]
    }
   ],
   "source": [
    "pipe = make_pipeline(StandardScaler(), SGDClassifier(loss='log',penalty='l2',max_iter=1000,\n",
    "                                                     alpha=0.01,learning_rate='optimal',n_iter_no_change=15,\n",
    "                                                     random_state=123,early_stopping=True,tol=0.001))\n",
    "pipe.fit(X_train,Y_train)\n",
    "print(pipe.score(X_train,Y_train))\n",
    "print(pipe.score(X_test,Y_test))\n"
   ]
  },
  {
   "cell_type": "code",
   "execution_count": 86,
   "id": "0e80d690",
   "metadata": {},
   "outputs": [
    {
     "name": "stdout",
     "output_type": "stream",
     "text": [
      "              precision    recall  f1-score   support\n",
      "\n",
      "           0       0.68      0.65      0.67        20\n",
      "           1       0.96      0.89      0.93        28\n",
      "           2       0.59      0.72      0.65        18\n",
      "           3       0.89      0.74      0.81        34\n",
      "           4       0.62      0.76      0.68        21\n",
      "\n",
      "    accuracy                           0.76       121\n",
      "   macro avg       0.75      0.75      0.75       121\n",
      "weighted avg       0.78      0.76      0.77       121\n",
      "\n"
     ]
    }
   ],
   "source": [
    "from sklearn.metrics import classification_report,confusion_matrix\n",
    "predict = pipe.predict(X_test)\n",
    "print(classification_report(Y_test,predict))"
   ]
  },
  {
   "cell_type": "code",
   "execution_count": 87,
   "id": "400ea0a1",
   "metadata": {},
   "outputs": [
    {
     "name": "stdout",
     "output_type": "stream",
     "text": [
      "[[13  1  1  0  5]\n",
      " [ 1 25  0  0  2]\n",
      " [ 1  0 13  2  2]\n",
      " [ 1  0  7 25  1]\n",
      " [ 3  0  1  1 16]]\n"
     ]
    }
   ],
   "source": [
    "print(confusion_matrix(Y_test,predict))"
   ]
  },
  {
   "cell_type": "code",
   "execution_count": 88,
   "id": "94a1c7b0",
   "metadata": {},
   "outputs": [
    {
     "name": "stdout",
     "output_type": "stream",
     "text": [
      "0.629399585921325\n",
      "0.5041322314049587\n"
     ]
    }
   ],
   "source": [
    "from sklearn.pipeline import Pipeline\n",
    "from sklearn.tree import DecisionTreeClassifier\n",
    "tr = DecisionTreeClassifier(criterion=\"gini\",max_depth=8,min_samples_split=4,min_samples_leaf=20)\n",
    "pipe = make_pipeline(StandardScaler(), tr)\n",
    "pipe.fit(X_train,Y_train)\n",
    "print(pipe.score(X_train,Y_train))\n",
    "print(pipe.score(X_test,Y_test))"
   ]
  },
  {
   "cell_type": "code",
   "execution_count": 89,
   "id": "a22a4663",
   "metadata": {},
   "outputs": [
    {
     "name": "stdout",
     "output_type": "stream",
     "text": [
      "              precision    recall  f1-score   support\n",
      "\n",
      "           0       0.32      0.35      0.33        20\n",
      "           1       0.66      0.75      0.70        28\n",
      "           2       0.43      0.33      0.38        18\n",
      "           3       0.70      0.47      0.56        34\n",
      "           4       0.37      0.52      0.43        21\n",
      "\n",
      "    accuracy                           0.50       121\n",
      "   macro avg       0.49      0.49      0.48       121\n",
      "weighted avg       0.53      0.50      0.51       121\n",
      "\n"
     ]
    }
   ],
   "source": [
    "from sklearn.metrics import classification_report,confusion_matrix\n",
    "predict = pipe.predict(X_test)\n",
    "print(classification_report(Y_test,predict))"
   ]
  },
  {
   "cell_type": "code",
   "execution_count": 90,
   "id": "d450fffa",
   "metadata": {},
   "outputs": [],
   "source": [
    "from sklearn.ensemble import RandomForestClassifier"
   ]
  },
  {
   "cell_type": "code",
   "execution_count": 91,
   "id": "aff0ba88",
   "metadata": {},
   "outputs": [
    {
     "name": "stdout",
     "output_type": "stream",
     "text": [
      "0.6915113871635611\n",
      "0.6033057851239669\n"
     ]
    }
   ],
   "source": [
    "rf = RandomForestClassifier(n_estimators=55,criterion='entropy',max_depth=7,\n",
    "                            min_impurity_decrease=0.001,max_leaf_nodes=8,random_state=12)\n",
    "pipe = make_pipeline(StandardScaler(), rf)\n",
    "pipe.fit(X_train,Y_train)\n",
    "print(pipe.score(X_train,Y_train))\n",
    "print(pipe.score(X_test,Y_test))"
   ]
  },
  {
   "cell_type": "code",
   "execution_count": 92,
   "id": "bab5d4f7",
   "metadata": {},
   "outputs": [
    {
     "name": "stdout",
     "output_type": "stream",
     "text": [
      "              precision    recall  f1-score   support\n",
      "\n",
      "           0       0.43      0.30      0.35        20\n",
      "           1       0.68      0.93      0.79        28\n",
      "           2       0.40      0.44      0.42        18\n",
      "           3       0.67      0.65      0.66        34\n",
      "           4       0.69      0.52      0.59        21\n",
      "\n",
      "    accuracy                           0.60       121\n",
      "   macro avg       0.57      0.57      0.56       121\n",
      "weighted avg       0.60      0.60      0.59       121\n",
      "\n"
     ]
    }
   ],
   "source": [
    "from sklearn.metrics import classification_report,confusion_matrix\n",
    "predict = pipe.predict(X_test)\n",
    "print(classification_report(Y_test,predict))"
   ]
  },
  {
   "cell_type": "code",
   "execution_count": 93,
   "id": "9ed38619",
   "metadata": {},
   "outputs": [
    {
     "name": "stdout",
     "output_type": "stream",
     "text": [
      "1.0\n",
      "0.7355371900826446\n"
     ]
    }
   ],
   "source": [
    "from sklearn.neural_network import MLPClassifier\n",
    "mlp = MLPClassifier(hidden_layer_sizes=(20,),activation='relu',solver='lbfgs',alpha=1e-05,learning_rate_init=0.00001,\n",
    "                   max_iter=500,early_stopping=False,validation_fraction=0.1,batch_size=64,\n",
    "                    learning_rate='constant',momentum=0.9)\n",
    "pipe = make_pipeline(StandardScaler(), mlp)\n",
    "pipe.fit(X_train,Y_train)\n",
    "print(pipe.score(X_train,Y_train))\n",
    "print(pipe.score(X_test,Y_test))"
   ]
  },
  {
   "cell_type": "code",
   "execution_count": 94,
   "id": "f3318477",
   "metadata": {},
   "outputs": [
    {
     "name": "stdout",
     "output_type": "stream",
     "text": [
      "              precision    recall  f1-score   support\n",
      "\n",
      "           0       0.52      0.60      0.56        20\n",
      "           1       0.93      0.96      0.95        28\n",
      "           2       0.57      0.67      0.62        18\n",
      "           3       0.88      0.82      0.85        34\n",
      "           4       0.62      0.48      0.54        21\n",
      "\n",
      "    accuracy                           0.74       121\n",
      "   macro avg       0.70      0.71      0.70       121\n",
      "weighted avg       0.74      0.74      0.74       121\n",
      "\n"
     ]
    }
   ],
   "source": [
    "from sklearn.metrics import classification_report,confusion_matrix\n",
    "predict = pipe.predict(X_test)\n",
    "print(classification_report(Y_test,predict))"
   ]
  },
  {
   "cell_type": "code",
   "execution_count": 95,
   "id": "8f0bfe43",
   "metadata": {},
   "outputs": [
    {
     "name": "stdout",
     "output_type": "stream",
     "text": [
      "[[12  2  2  0  4]\n",
      " [ 1 27  0  0  0]\n",
      " [ 2  0 12  3  1]\n",
      " [ 0  0  5 28  1]\n",
      " [ 8  0  2  1 10]]\n"
     ]
    }
   ],
   "source": [
    "print(confusion_matrix(Y_test,predict))"
   ]
  },
  {
   "cell_type": "code",
   "execution_count": 96,
   "id": "3c4a15cf",
   "metadata": {},
   "outputs": [],
   "source": [
    "#SVM"
   ]
  },
  {
   "cell_type": "code",
   "execution_count": 97,
   "id": "5c3f18eb",
   "metadata": {},
   "outputs": [],
   "source": [
    "from sklearn.svm import SVC"
   ]
  },
  {
   "cell_type": "code",
   "execution_count": 98,
   "id": "ff8913bb",
   "metadata": {},
   "outputs": [
    {
     "name": "stdout",
     "output_type": "stream",
     "text": [
      "Training Accuracy:  92.96066252587993\n",
      "Testing Accuracy:  76.03305785123968\n"
     ]
    }
   ],
   "source": [
    "svm = SVC(C=0.6, kernel='poly', degree=3, gamma='scale', coef0=0.491, shrinking=True, probability=True, \n",
    "          tol=0.001, cache_size=400, class_weight='balanced', verbose=False, max_iter=1000, decision_function_shape='ovo', \n",
    "          break_ties=False, random_state=123)\n",
    "pipe = make_pipeline(StandardScaler(), svm)\n",
    "pipe.fit(X_train,Y_train)\n",
    "print('Training Accuracy: ',pipe.score(X_train,Y_train)*100)\n",
    "print('Testing Accuracy: ',pipe.score(X_test,Y_test)*100)"
   ]
  },
  {
   "cell_type": "code",
   "execution_count": 99,
   "id": "4848f205",
   "metadata": {},
   "outputs": [
    {
     "name": "stdout",
     "output_type": "stream",
     "text": [
      "              precision    recall  f1-score   support\n",
      "\n",
      "           0       0.55      0.55      0.55        20\n",
      "           1       0.87      0.93      0.90        28\n",
      "           2       0.79      0.83      0.81        18\n",
      "           3       0.85      0.85      0.85        34\n",
      "           4       0.61      0.52      0.56        21\n",
      "\n",
      "    accuracy                           0.76       121\n",
      "   macro avg       0.73      0.74      0.73       121\n",
      "weighted avg       0.75      0.76      0.76       121\n",
      "\n"
     ]
    }
   ],
   "source": [
    "from sklearn.metrics import classification_report,confusion_matrix\n",
    "predict = pipe.predict(X_test)\n",
    "print(classification_report(Y_test,predict))"
   ]
  },
  {
   "cell_type": "code",
   "execution_count": 100,
   "id": "27ab5a4b",
   "metadata": {},
   "outputs": [
    {
     "name": "stdout",
     "output_type": "stream",
     "text": [
      "[[11  2  0  2  5]\n",
      " [ 1 26  0  0  1]\n",
      " [ 1  0 15  2  0]\n",
      " [ 2  0  2 29  1]\n",
      " [ 5  2  2  1 11]]\n"
     ]
    }
   ],
   "source": [
    "print(confusion_matrix(Y_test,predict))"
   ]
  },
  {
   "cell_type": "code",
   "execution_count": 101,
   "id": "2728f699",
   "metadata": {},
   "outputs": [],
   "source": [
    "#Naive Bayes"
   ]
  },
  {
   "cell_type": "code",
   "execution_count": 102,
   "id": "cc5ff3db",
   "metadata": {},
   "outputs": [
    {
     "name": "stdout",
     "output_type": "stream",
     "text": [
      "Training Accuracy:  54.24430641821946\n",
      "Testing Accuracy:  47.107438016528924\n"
     ]
    }
   ],
   "source": [
    "from sklearn.naive_bayes import GaussianNB\n",
    "gnb = GaussianNB(var_smoothing=.9)\n",
    "pipe_nb = make_pipeline(StandardScaler(), gnb)\n",
    "pipe_nb.fit(X_train,Y_train)\n",
    "print('Training Accuracy: ',pipe_nb.score(X_train,Y_train)*100)\n",
    "print('Testing Accuracy: ',pipe_nb.score(X_test,Y_test)*100)"
   ]
  },
  {
   "cell_type": "code",
   "execution_count": 103,
   "id": "1d20d055",
   "metadata": {},
   "outputs": [
    {
     "name": "stdout",
     "output_type": "stream",
     "text": [
      "              precision    recall  f1-score   support\n",
      "\n",
      "           0       0.43      0.30      0.35        20\n",
      "           1       0.58      0.79      0.67        28\n",
      "           2       0.30      0.17      0.21        18\n",
      "           3       0.77      0.29      0.43        34\n",
      "           4       0.35      0.76      0.48        21\n",
      "\n",
      "    accuracy                           0.47       121\n",
      "   macro avg       0.48      0.46      0.43       121\n",
      "weighted avg       0.53      0.47      0.45       121\n",
      "\n"
     ]
    }
   ],
   "source": [
    "from sklearn.metrics import classification_report,confusion_matrix\n",
    "predict = pipe_nb.predict(X_test)\n",
    "print(classification_report(Y_test,predict))\n"
   ]
  },
  {
   "cell_type": "code",
   "execution_count": null,
   "id": "aa208328",
   "metadata": {},
   "outputs": [],
   "source": []
  },
  {
   "cell_type": "code",
   "execution_count": null,
   "id": "a85702a8",
   "metadata": {},
   "outputs": [],
   "source": []
  }
 ],
 "metadata": {
  "kernelspec": {
   "display_name": "Python 3",
   "language": "python",
   "name": "python3"
  },
  "language_info": {
   "codemirror_mode": {
    "name": "ipython",
    "version": 3
   },
   "file_extension": ".py",
   "mimetype": "text/x-python",
   "name": "python",
   "nbconvert_exporter": "python",
   "pygments_lexer": "ipython3",
   "version": "3.8.8"
  }
 },
 "nbformat": 4,
 "nbformat_minor": 5
}
